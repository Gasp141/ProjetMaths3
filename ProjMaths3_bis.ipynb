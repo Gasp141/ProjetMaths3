{
 "cells": [
  {
   "cell_type": "markdown",
   "metadata": {},
   "source": [
    "# Projet Maths 3"
   ]
  },
  {
   "cell_type": "markdown",
   "metadata": {},
   "source": [
    "# Questions théoriques"
   ]
  },
  {
   "cell_type": "markdown",
   "metadata": {},
   "source": [
    "> **1. Quel théorème du cours nous autorise-t-il à estimer l’espérance conditionnelle par la moyenne empirique de simulations conditionnelles.**\n",
    "\n",
    "Rappelons le théorême de la limite centrale : \n",
    "\n",
    "Si les $Z_n$ sont des variables aléatoires réelles, indépendantes et de même loi, de carré intégrable, d'espérance $m$ et de variance $\\sigma^2 >0$, alors les variables $\\frac{S_n -nm}{\\sigma \\sqrt{n}}$ convergent en loi vers une variable aléatoire de loi $\\mathcal{N}(0,1)$.\n",
    "\n",
    "En d'autres termes, $\\sqrt{n}(M_n - m)$ converge vers une variable normale de loi $\\mathcal{N}(0,\\sigma^2)$\n",
    "\n",
    "On en déduit que $n^\\alpha (\\frac{S_n}{n} - m)$ converge vers 0 (resp. $+\\infty$) en probabilité lorsque $\\alpha < 1/2$ (resp. $\\alpha > 1/2$)\n",
    "\n",
    "En particulier pour $\\alpha = 0$ : \n",
    "$$\\frac{S_n}{n} \\to^\\mathbb{P} m$$\n",
    "\n",
    "Soit $(\\Omega,\\mathcal{A},\\mathbb{P}_Z)$ l'espace probabilisé. Posons $Z_n$ le resultat du  n-ème tirage avec remise d'un élément de cet espace. Les $(Z_n)_\\mathbb{N}$ vérifient les ocnditions d'application du **théorême de la limite centrale**. \n",
    "\n",
    "\n",
    "\n",
    "D'où en considérant le vecteur aléatoire conditionnel $Y|X=x$. En notant Y les valeurs prises aux points de discretisation sans observation et X les valeurs prises par les composantes aux sites d'observation. On a alors sans perte de généralité $Z = (X,Y)$ par permutations.\n",
    "\n",
    "La moyenne des simulations conditionelles converge vers l'espérance conditionelle. **Il est donc approprié de l'approcher de cette façon.**\n",
    "\n",
    "> **2. Rappeler la loi conditionnelle du vecteur des composantes de Z correspondant aux points de discrétisation sans observation, connaissant les valeurs prises par les composantes aux sites d’observation.**\n",
    "\n",
    "Le vecteur aléatoire des composantes de $Z$ correspondant aux points de discrétisation sans observation, connaissant les valeurs prises par les composantes aux sites d’observation est noté $Z'$\n",
    "\n",
    "En notant $Y$ les valeurs prises aux points de discretisation sans observation et $X$ les valeurs prises par les composantes aux sites d'observation. On a alors sans perte de généralité $Z = (X,Y)$ par permutations.\n",
    "\n",
    "$Z'= Z|X=x = Y|X=x$ admet une densité $f_{Y|X=x}$\n",
    "telle que \n",
    "$$f_{Y|X=x} =\\frac{1}{(2\\pi)^{k/2}\\sqrt{det(CS_Y)}}exp(-\\frac{1}{2}(y-\\Psi(x))^\\perp CS_Y^{-1}(y-\\Psi (x)))$$\n",
    "\n",
    "avec : \n",
    "$$\n",
    "CS_Y = C_Y - C_{Y,X}C_X^{-1}C_{X,Y} \n",
    "$$\n",
    "\n",
    "où on a  :\n",
    "\n",
    "$$\n",
    "E(Y|X=x) = \\Psi(z)= m_Y + C_{Y,Z}C_Z^{-1}(z-m_Z)\n",
    "$$\n",
    "\n",
    "\n",
    "> **3. Si Y = (Y1, . . . , Yp) est un vecteur de composantes gaussiennes indépendantes, toutes d’espérance nulle et de variance 1, quelle est la loi du vecteur Z = m + RY où R est une matrice p × p et m est un vecteur de taille p ?**\n",
    "\n",
    "Si Y est un vecteur de composantes gaussiennes indépendantes, toutes d'esperance nulle et de variance 1,  alors on peut caractériser cette variable aléatoire par sa fonction caractéristiques $\\Phi_Y(u) =e^{i<u|m>-\\frac{1}{2} <u|I_n u>}$\n",
    "\n",
    "Or d'après le cours de Probabilté $III$ $\\Phi_Z(u) = \\Phi_{m+RY}(u) = e^{i<u|m>}\\Phi_Y(R^\\perp u)$\n",
    "\n",
    "Ce qui dans notre cas nous donne : \n",
    "\n",
    "$$\\Phi_Z(u) = \\Phi_{m+RY}(u) = e^{i<u|m>}\\Phi_Y(R^\\perp u)$$\n",
    "\n",
    "Donc Z suit la loi qui a pour fonction caractéristique : \n",
    "$$\n",
    "\\Phi_Z(u) = \\Phi_{m+RY}(u) = e^{i<u|m>-\\frac{1}{2} <R^\\perp u| R^\\perp u>}\n",
    "$$\n",
    "\n",
    "\n",
    "> **4. En déduire un algorithme de simulation conditionnelle.**\n",
    "\n",
    "On en déduit donc qu'en utilisant une matrice R bien choisie on peut arriver simuler un vecteur gaussien conditionnel\n",
    "\n",
    "En effet si on choisit la transformée de Cholesky de la matrice de covariance conditionelle $CS_Y$, que l'on notera $R$ :\n",
    "En posant $Z'  = m +RY$ où $Y = (Y1, . . . , Yp)$ est un vecteur de composantes gaussiennes indépendantes, toutes d’espérance nulle et de variance 1\n",
    "\n",
    "$\\Phi_{Z'}(u) = e^{i<u|m> -\\frac{1}{2}<R^\\perp u|R^\\perp u> }\n",
    " =  e^{i< u|m> -\\frac{1}{2} <u|CS_Yu>}$ ( par symétrie de R ) \n",
    " \n",
    "$$\n",
    "\\Phi_{Z'}(u) = e^{i<u| m>-\\frac{1}{2} <u|CS_Yu>}\n",
    "$$\n",
    "\n",
    "Donc $Z'$ est une variable aléatoire à densité, $Z'$ est un un vecteur gaussien\n",
    "\n",
    "De plus Z'est de même loi que la variable aléatoire gaussienne $Y|X=x$ par identification des fonctions caractéristiques.\n",
    "\n",
    "On peut donc proposer un algorithme de simulation : \n",
    "\n",
    "### Algorithme de simulation\n",
    "--------\n",
    "\n",
    "- Fixer les vealeurs aux points d'observations \n",
    "- Calculer la matrice de covariance conditionelle\n",
    "- Calculer la transformée de Cholesky\n",
    "- Simuler Y un vecteur gaussien centré réduit de composantes indépendantes\n",
    "- Simuler Z par transformation affine\n",
    "- Recommencer"
   ]
  },
  {
   "cell_type": "markdown",
   "metadata": {},
   "source": [
    "# Réalisation Informatique"
   ]
  },
  {
   "cell_type": "code",
   "execution_count": 1,
   "metadata": {
    "collapsed": true
   },
   "outputs": [],
   "source": [
    "# chargement des dépendances \n",
    "\n",
    "import numpy as np \n",
    "import math\n",
    "import matplotlib.pyplot as plt \n",
    "import random\n",
    "import pandas as pd"
   ]
  },
  {
   "cell_type": "code",
   "execution_count": 2,
   "metadata": {
    "collapsed": false
   },
   "outputs": [
    {
     "name": "stdout",
     "output_type": "stream",
     "text": [
      "5.0\n"
     ]
    }
   ],
   "source": [
    "#Discrétisation\n",
    "A=0\n",
    "B=500\n",
    "N=101\n",
    "\n",
    "#Nombre de points de discrétisation \n",
    "Delta = (B-A)/(N-1)\n",
    "print(Delta)\n",
    "discretization_indexes = np.arange(N) \n",
    "discretization = discretization_indexes*Delta \n",
    "\n",
    "#Paramètres du modèle\n",
    "mu=-5\n",
    "a = 50\n",
    "sigma2 = 12\n",
    "\n",
    "#Données\n",
    "observation_indexes = [0,20,40,60,80,100]\n",
    "depth = np.array([0,-4,-12.8,-1,-6.5,0])\n",
    "#Indices des composantes correspondant aux observations et aux componsantes non observées\n",
    "unknown_indexes=list(set(discretization_indexes)-set(observation_indexes))\n"
   ]
  },
  {
   "cell_type": "code",
   "execution_count": 3,
   "metadata": {
    "collapsed": true
   },
   "outputs": [],
   "source": [
    "mu_vect = [mu for i in range(N)]"
   ]
  },
  {
   "cell_type": "markdown",
   "metadata": {},
   "source": [
    "> **1. Ecrire une fonction qui retourne la convariance antre deux points, en fonction de la distance entre ces points , du paramètre a et de sig2**\n"
   ]
  },
  {
   "cell_type": "code",
   "execution_count": 4,
   "metadata": {
    "collapsed": true
   },
   "outputs": [],
   "source": [
    "def C(h, a, sig_2):\n",
    "    return (np.exp(-abs(h)/a)*sig_2)\n",
    "\n"
   ]
  },
  {
   "cell_type": "markdown",
   "metadata": {},
   "source": [
    "> **2. Calculer la matrice de distance**"
   ]
  },
  {
   "cell_type": "code",
   "execution_count": 5,
   "metadata": {
    "collapsed": true
   },
   "outputs": [],
   "source": [
    "def mat_distance(discretization):\n",
    "    M=np.ones((len(discretization),len(discretization)))\n",
    "    for i in range(len(discretization)):\n",
    "        for j in range(len(discretization)):\n",
    "            M[i,j] = abs(discretization[i] - discretization[j])\n",
    "    return M "
   ]
  },
  {
   "cell_type": "markdown",
   "metadata": {},
   "source": [
    "> **3. calculer la matrice de covariance du vecteur Z**"
   ]
  },
  {
   "cell_type": "code",
   "execution_count": 6,
   "metadata": {
    "collapsed": false
   },
   "outputs": [],
   "source": [
    "covar = C(mat_distance(discretization), a, sigma2)\n"
   ]
  },
  {
   "cell_type": "markdown",
   "metadata": {},
   "source": [
    "> **4. Extraire 3 matrices de covariances**"
   ]
  },
  {
   "cell_type": "code",
   "execution_count": 7,
   "metadata": {
    "collapsed": false
   },
   "outputs": [],
   "source": [
    "rows = np.array(observation_indexes, dtype=np.intp)\n",
    "columns = np.array(observation_indexes, dtype=np.intp)\n",
    "covar_obs_obs = covar[rows[:, np.newaxis], columns]\n",
    "\n",
    "columns = np.array(unknown_indexes, dtype=np.intp)\n",
    "rows = np.array(observation_indexes, dtype=np.intp)\n",
    "covar_obs_unk= covar[rows[:, np.newaxis], columns]\n",
    "\n",
    "rows = np.array(unknown_indexes, dtype=np.intp)\n",
    "columns = np.array(unknown_indexes, dtype=np.intp)\n",
    "covar_unk_unk = covar[rows[:, np.newaxis], columns]"
   ]
  },
  {
   "cell_type": "markdown",
   "metadata": {},
   "source": [
    "> **5. Calculer l'espérance conditionnelle des composantes non observées connaissant les observations et la représenter avec des données.**"
   ]
  },
  {
   "cell_type": "code",
   "execution_count": 8,
   "metadata": {
    "collapsed": true
   },
   "outputs": [],
   "source": [
    "esp_cond = np.array([mu for i in range(len(unknown_indexes))]) +  covar_obs_unk.transpose() @ np.linalg.inv(covar_obs_obs)@(np.array(depth) - [mu for i in range( len( observation_indexes)) ])"
   ]
  },
  {
   "cell_type": "code",
   "execution_count": 9,
   "metadata": {
    "collapsed": true
   },
   "outputs": [],
   "source": [
    "cov_cond = covar_unk_unk - covar_obs_unk.transpose()@np.linalg.inv(covar_obs_obs) @ covar_obs_unk"
   ]
  },
  {
   "cell_type": "code",
   "execution_count": 10,
   "metadata": {
    "collapsed": true
   },
   "outputs": [],
   "source": [
    "X=np.array([ cov_cond[i,i] for i in range (len(cov_cond))])"
   ]
  },
  {
   "cell_type": "code",
   "execution_count": 11,
   "metadata": {
    "collapsed": false
   },
   "outputs": [
    {
     "ename": "NameError",
     "evalue": "name 'builder' is not defined",
     "output_type": "error",
     "traceback": [
      "\u001b[0;31m---------------------------------------------------------------------------\u001b[0m",
      "\u001b[0;31mNameError\u001b[0m                                 Traceback (most recent call last)",
      "\u001b[0;32m<ipython-input-11-f1ce6827971b>\u001b[0m in \u001b[0;36m<module>\u001b[0;34m()\u001b[0m\n\u001b[1;32m      2\u001b[0m \u001b[0mplt\u001b[0m\u001b[0;34m.\u001b[0m\u001b[0mscatter\u001b[0m\u001b[0;34m(\u001b[0m\u001b[0mobservation_indexes\u001b[0m\u001b[0;34m,\u001b[0m\u001b[0mdepth\u001b[0m\u001b[0;34m)\u001b[0m\u001b[0;34m\u001b[0m\u001b[0m\n\u001b[1;32m      3\u001b[0m \u001b[0mplt\u001b[0m\u001b[0;34m.\u001b[0m\u001b[0mplot\u001b[0m\u001b[0;34m(\u001b[0m\u001b[0munknown_indexes\u001b[0m\u001b[0;34m,\u001b[0m\u001b[0mX\u001b[0m\u001b[0;34m)\u001b[0m\u001b[0;34m\u001b[0m\u001b[0m\n\u001b[0;32m----> 4\u001b[0;31m \u001b[0mplt\u001b[0m\u001b[0;34m.\u001b[0m\u001b[0mplot\u001b[0m\u001b[0;34m(\u001b[0m\u001b[0mbuilder\u001b[0m\u001b[0;34m(\u001b[0m\u001b[0;34m[\u001b[0m\u001b[0;36m0\u001b[0m\u001b[0;34m,\u001b[0m\u001b[0;36m0\u001b[0m\u001b[0;34m,\u001b[0m\u001b[0;36m0\u001b[0m\u001b[0;34m,\u001b[0m\u001b[0;36m0\u001b[0m\u001b[0;34m,\u001b[0m\u001b[0;36m0\u001b[0m\u001b[0;34m,\u001b[0m\u001b[0;36m0\u001b[0m\u001b[0;34m]\u001b[0m\u001b[0;34m,\u001b[0m\u001b[0mobservation_indexes\u001b[0m\u001b[0;34m,\u001b[0m\u001b[0mX\u001b[0m\u001b[0;34m,\u001b[0m\u001b[0mN\u001b[0m\u001b[0;34m)\u001b[0m\u001b[0;34m)\u001b[0m\u001b[0;34m\u001b[0m\u001b[0m\n\u001b[0m\u001b[1;32m      5\u001b[0m \u001b[0;34m\u001b[0m\u001b[0m\n\u001b[1;32m      6\u001b[0m \u001b[0mplt\u001b[0m\u001b[0;34m.\u001b[0m\u001b[0mplot\u001b[0m\u001b[0;34m(\u001b[0m\u001b[0mbuilder\u001b[0m\u001b[0;34m(\u001b[0m\u001b[0mdepth\u001b[0m\u001b[0;34m,\u001b[0m\u001b[0mobservation_indexes\u001b[0m\u001b[0;34m,\u001b[0m\u001b[0mesp_cond\u001b[0m\u001b[0;34m+\u001b[0m\u001b[0mX\u001b[0m\u001b[0;34m,\u001b[0m\u001b[0mN\u001b[0m\u001b[0;34m)\u001b[0m\u001b[0;34m)\u001b[0m\u001b[0;34m\u001b[0m\u001b[0m\n",
      "\u001b[0;31mNameError\u001b[0m: name 'builder' is not defined"
     ]
    }
   ],
   "source": [
    "plt.scatter(unknown_indexes,esp_cond)\n",
    "plt.scatter(observation_indexes,depth)\n",
    "plt.plot(unknown_indexes,X)\n",
    "plt.plot(builder([0,0,0,0,0,0],observation_indexes,X,N))\n",
    "\n",
    "plt.plot(builder(depth,observation_indexes,esp_cond+X,N))\n",
    "plt.plot(builder(depth,observation_indexes,esp_cond-X,N))"
   ]
  },
  {
   "cell_type": "code",
   "execution_count": null,
   "metadata": {
    "collapsed": false
   },
   "outputs": [],
   "source": [
    "L = np.linalg.cholesky(cov_cond)\n",
    "L = L.transpose()\n",
    "\n",
    "def simul( L ):\n",
    "    f= lambda u,v : np.sqrt(-2*np.log(u))*np.cos(2*np.pi*v)\n",
    "    g= lambda u,v : np.sqrt(-2*np.log(u))*np.sin(2*np.pi*v)\n",
    "    Y = np.random.normal(0,1,len(unknown_indexes))\n",
    "    Z = np.array([mu for i in range(len( unknown_indexes))])+ L@ Y\n",
    "    return Z\n",
    "Z = simul(L)\n",
    "plt.plot(unknown_indexes,Z)\n",
    "\n",
    "\n",
    "plt.plot(unknown_indexes, esp_cond)\n",
    "plt.plot(builder(depth,observation_indexes,esp_cond+X,N))\n",
    "plt.plot(builder(depth,observation_indexes,esp_cond-X,N))\n",
    "plt.scatter(observation_indexes,depth)"
   ]
  },
  {
   "cell_type": "code",
   "execution_count": null,
   "metadata": {
    "collapsed": false
   },
   "outputs": [],
   "source": [
    "def builder(depth,observation_indexes, Z , N):\n",
    "    prof = []\n",
    "    depth_ =list(depth)\n",
    "    Z_ = list(Z)\n",
    "    for i in range (N):\n",
    "\n",
    "        if i in observation_indexes :\n",
    "            prof.append(depth_.pop(0))\n",
    "        else : \n",
    "            prof.append(Z_.pop(0))\n",
    "    return prof\n",
    "prof = builder(depth, observation_indexes,Z,N)\n",
    "\n",
    "plt.plot(unknown_indexes, esp_cond)\n",
    "plt.plot(prof)\n",
    "plt.scatter(observation_indexes,depth)\n",
    "plt.plot(builder(depth,observation_indexes,esp_cond,N))\n",
    "\n",
    "def longueur ( prof, delta):\n",
    "    S = 0\n",
    "    for i in range(1,len(prof)):\n",
    "        S+= np.sqrt(delta**2 +(prof[i]-prof[i-1])**2)\n",
    "    return S\n",
    "\n",
    "\n",
    "\n"
   ]
  },
  {
   "cell_type": "code",
   "execution_count": null,
   "metadata": {
    "collapsed": false
   },
   "outputs": [],
   "source": [
    "def simul_N ( Number , Delta):\n",
    "    length = []\n",
    "    for i in range (Number):\n",
    "        length.append(longueur(builder(depth,observation_indexes,simul(L),N),Delta))\n",
    "    return length\n",
    "\n",
    "np.array(simul_N(100,Delta)).mean()"
   ]
  },
  {
   "cell_type": "code",
   "execution_count": null,
   "metadata": {
    "collapsed": false
   },
   "outputs": [],
   "source": [
    "print(Delta)\n",
    "L_th = longueur(builder(depth,observation_indexes,esp_cond,N),Delta)\n",
    "L_th\n"
   ]
  },
  {
   "cell_type": "markdown",
   "metadata": {},
   "source": [
    "# 100 // 1000 // 10000 // 100000 simulations"
   ]
  },
  {
   "cell_type": "code",
   "execution_count": null,
   "metadata": {
    "collapsed": false
   },
   "outputs": [],
   "source": [
    "simul_total = simul_N(1000,Delta)\n",
    "\n",
    "info = []\n",
    "num = [100,1000,100,100]\n",
    "subplot_list = [221,222,223,224]\n",
    "\n",
    "for borne, sub in zip(num,subplot_list):\n",
    "    means = []\n",
    "    simuls = np.array(simul_total[:borne])\n",
    "    for i in range(1,len(simuls)):\n",
    "        plt.subplot(sub)\n",
    "        means.append(np.array(simuls[:i]).mean())\n",
    "        plt.plot(means)\n",
    "    info.append({ \n",
    "                ,mean : simuls.mean()\n",
    "                ,std : simuls.std()\n",
    "                ,conf : 1.960*std/np.sqrt(len(simuls))})"
   ]
  },
  {
   "cell_type": "code",
   "execution_count": null,
   "metadata": {
    "collapsed": false
   },
   "outputs": [],
   "source": [
    "\n",
    "plt.hist(simuls, bins = np.arange(simuls.min(),simuls.max(),0.5), align = 'left')\n",
    "plt.axvline(x=mean, linewidth=1, color='r', label = \"moyenne des longueurs\")\n",
    "plt.axvline(x=mean +std, linewidth=1, color='g')\n",
    "plt.axvline(x=mean - std, linewidth=1, color='g')\n",
    "plt.axvline(x=mean - conf, linewidth=1, color='y')\n",
    "plt.axvline(x=mean + conf, linewidth=1, color='y')\n",
    "plt.legend()"
   ]
  },
  {
   "cell_type": "code",
   "execution_count": null,
   "metadata": {
    "collapsed": true
   },
   "outputs": [],
   "source": [
    "# Calculer la fonction de répartition expérimentale\n",
    "\n",
    "def F_repart(level, simuls):\n",
    "    S = 0\n",
    "    for i in simuls:\n",
    "        if i >level :\n",
    "            S+=1\n",
    "    return  1 - S/len(simuls)"
   ]
  },
  {
   "cell_type": "code",
   "execution_count": null,
   "metadata": {
    "collapsed": false
   },
   "outputs": [],
   "source": [
    "1- F_repart(525,simuls)"
   ]
  },
  {
   "cell_type": "markdown",
   "metadata": {},
   "source": [
    "## Partie info\n"
   ]
  },
  {
   "cell_type": "code",
   "execution_count": null,
   "metadata": {
    "collapsed": true
   },
   "outputs": [],
   "source": [
    "import numpy as np\n",
    "import math \n",
    "import matplotlib.pyplot as plt\n"
   ]
  },
  {
   "cell_type": "code",
   "execution_count": 25,
   "metadata": {
    "collapsed": false
   },
   "outputs": [
    {
     "name": "stdout",
     "output_type": "stream",
     "text": [
      "5.0\n"
     ]
    },
    {
     "data": {
      "text/plain": [
       "array([  0.,   5.,  10.,  15.,  20.,  25.,  30.,  35.,  40.,  45.,  50.,\n",
       "        55.,  60.,  65.,  70.,  75.,  80.,  85.,  90.,  95., 100., 105.,\n",
       "       110., 115., 120., 125., 130., 135., 140., 145., 150., 155., 160.,\n",
       "       165., 170., 175., 180., 185., 190., 195., 200., 205., 210., 215.,\n",
       "       220., 225., 230., 235., 240., 245., 250., 255., 260., 265., 270.,\n",
       "       275., 280., 285., 290., 295., 300., 305., 310., 315., 320., 325.,\n",
       "       330., 335., 340., 345., 350., 355., 360., 365., 370., 375., 380.,\n",
       "       385., 390., 395., 400., 405., 410., 415., 420., 425., 430., 435.,\n",
       "       440., 445., 450., 455., 460., 465., 470., 475., 480., 485., 490.,\n",
       "       495., 500.])"
      ]
     },
     "execution_count": 25,
     "metadata": {},
     "output_type": "execute_result"
    }
   ],
   "source": [
    "#Discrétisation\n",
    "A=0\n",
    "B=500\n",
    "N=101\n",
    "\n",
    "#Nombre de points de discrétisation \n",
    "Delta = (B-A)/(N-1)\n",
    "print(Delta)\n",
    "discretization_indexes = np.arange(N) \n",
    "discretization = discretization_indexes*Delta \n",
    "\n",
    "#Paramètres du modèle\n",
    "mu=-5\n",
    "a = 50\n",
    "sigma2 = 12\n",
    "\n",
    "#Données\n",
    "observation_indexes = [0,20,40,60,80,100]\n",
    "depth = np.array([0,-4,-12.8,-1,-6.5,0])\n",
    "#Indices des composantes correspondant aux observations et aux componsantes non observées\n",
    "unknown_indexes=list(set(discretization_indexes)-set(observation_indexes))\n",
    "\n",
    "\n",
    "discretization"
   ]
  },
  {
   "cell_type": "code",
   "execution_count": 26,
   "metadata": {
    "collapsed": true
   },
   "outputs": [],
   "source": [
    "# 1. Covariance entre deux points \n",
    "def C(Mat_dist, a, sigma2):\n",
    "    Mat_C=np.ones((len(Mat_dist), len(Mat_dist)))\n",
    "    for i in range(len(Mat_dist)):\n",
    "        for j in range(len(Mat_dist)):\n",
    "            Mat_C[i][j]=sigma2*np.exp(abs(Mat_dist[i][j])/a)\n",
    "    return Mat_C\n"
   ]
  },
  {
   "cell_type": "code",
   "execution_count": 29,
   "metadata": {
    "collapsed": false
   },
   "outputs": [
    {
     "data": {
      "text/plain": [
       "array([[  0.,   5.,  10., ..., 490., 495., 500.],\n",
       "       [  5.,   0.,   5., ..., 485., 490., 495.],\n",
       "       [ 10.,   5.,   0., ..., 480., 485., 490.],\n",
       "       ...,\n",
       "       [490., 485., 480., ...,   0.,   5.,  10.],\n",
       "       [495., 490., 485., ...,   5.,   0.,   5.],\n",
       "       [500., 495., 490., ...,  10.,   5.,   0.]])"
      ]
     },
     "execution_count": 29,
     "metadata": {},
     "output_type": "execute_result"
    }
   ],
   "source": [
    "# 2. Construction matrice de distance\n",
    "discretization\n",
    "def mat_distance(discretization):\n",
    "    M=np.ones((len(discretization),len(discretization)))\n",
    "    for i in range(len(discretization)):\n",
    "        for j in range(len(discretization)):\n",
    "            M[i,j] = abs(discretization[i] - discretization[j])\n",
    "    return M \n",
    "\n",
    "Mat_dist= mat_distance(discretization)\n",
    "Mat_dist"
   ]
  },
  {
   "cell_type": "code",
   "execution_count": 30,
   "metadata": {
    "collapsed": true
   },
   "outputs": [],
   "source": [
    "# 3. Calcul de la matrice de covariance\n",
    "covar = C(mat_distance(discretization), a, sigma2)"
   ]
  },
  {
   "cell_type": "code",
   "execution_count": 31,
   "metadata": {
    "collapsed": true
   },
   "outputs": [],
   "source": [
    "# 4. Extraction des matrices de covariances\n",
    "\n",
    "## entre observations \n",
    "rows = np.array(observation_indexes, dtype=np.intp)\n",
    "columns = np.array(observation_indexes, dtype=np.intp)\n",
    "covar_obs_obs = covar[rows[:, np.newaxis], columns]\n",
    "## entre inconnues\n",
    "rows = np.array(unknown_indexes, dtype=np.intp)\n",
    "columns = np.array(unknown_indexes, dtype=np.intp)\n",
    "covar_unk_unk = covar[rows[:, np.newaxis], columns]\n",
    "## entre inconnues-observations\n",
    "columns = np.array(unknown_indexes, dtype=np.intp)\n",
    "rows = np.array(observation_indexes, dtype=np.intp)\n",
    "covar_obs_unk= covar[rows[:, np.newaxis], columns]"
   ]
  },
  {
   "cell_type": "code",
   "execution_count": null,
   "metadata": {
    "collapsed": true
   },
   "outputs": [],
   "source": [
    "# Fonction Utile\n",
    "def builder(depth,observation_indexes, Z , N):\n",
    "    prof = []\n",
    "    depth_ =list(depth)\n",
    "    Z_ = list(Z)\n",
    "    for i in range (N):\n",
    "\n",
    "        if i in observation_indexes :\n",
    "            prof.append(depth_.pop(0))\n",
    "        else : \n",
    "            prof.append(Z_.pop(0))\n",
    "    return prof"
   ]
  },
  {
   "cell_type": "code",
   "execution_count": null,
   "metadata": {
    "collapsed": false
   },
   "outputs": [],
   "source": [
    "# 5. Calcul de l'espérance conditionelle et représentation\n",
    "esp_cond = np.array([mu for i in range(len(unknown_indexes))]) +  covar_obs_unk.transpose() @ np.linalg.inv(covar_obs_obs)@(np.array(depth) - [mu for i in range( len( observation_indexes)) ])\n",
    "plt.scatter(unknown_indexes,esp_cond, label = \"Espérance Conditionelle\")\n",
    "plt.scatter(observation_indexes,depth, label = 'Valeur observée')\n",
    "plt.xlabel('Indice discrétisation')\n",
    "plt.ylabel(\"Altitude\")\n",
    "plt.title(\"Tracé de l'espérance conditionelle\")\n",
    "plt.legend()\n"
   ]
  },
  {
   "cell_type": "code",
   "execution_count": null,
   "metadata": {
    "collapsed": true
   },
   "outputs": [],
   "source": [
    "# 6. Calcul matrice de covariance conditionnelle / Affichage variance Conditionnelle\n",
    "cov_cond = covar_unk_unk - covar_obs_unk.transpose()@np.linalg.inv(covar_obs_obs) @ covar_obs_unk\n",
    "var_cond=np.array([ cov_cond[i,i] for i in range (len(cov_cond))])\n",
    "plt.scatter(unknown_indexes,esp_cond)\n",
    "plt.scatter(observation_indexes,depth)\n",
    "plt.tick_params(axis='y', labelcolor='tab:red')\n",
    "plt.ylabel('Altitude')\n",
    "plt.xlabel('Indice de discrétisation')\n",
    "plt.twinx()\n",
    "plt.plot(builder([0,0,0,0,0,0],observation_indexes,var_cond,N),label = 'Variance Conditionelle')\n",
    "plt.ylabel(\"Variance\")\n",
    "plt.title('affichage de la variance conditionelle')\n",
    "plt.legend()\n",
    "\n",
    "\n"
   ]
  },
  {
   "cell_type": "markdown",
   "metadata": {},
   "source": [
    "**On remarque que la variance conditionelle est très faible au voisinage des points d'observation. Mais au contraire atteint un maximum au milieu des deux observations. La dispersion des données est bien plus importante quand la distance à un point d'observation augmente ( dans le cas où tous les points inconnues sont indépendants).** "
   ]
  },
  {
   "cell_type": "code",
   "execution_count": null,
   "metadata": {
    "collapsed": true
   },
   "outputs": [],
   "source": [
    "# 7. Simulation conditionelle\n",
    "L = np.linalg.cholesky(cov_cond)\n",
    "L = L.transpose()\n",
    "\n",
    "def simul( L ):\n",
    "    f= lambda u,v : np.sqrt(-2*np.log(u))*np.cos(2*np.pi*v)\n",
    "    g= lambda u,v : np.sqrt(-2*np.log(u))*np.sin(2*np.pi*v)\n",
    "    Y = np.random.normal(0,1,len(unknown_indexes))\n",
    "    Z = np.array([mu for i in range(len( unknown_indexes))])+ L@ Y\n",
    "    return Z\n",
    "\n",
    "Z = simul(L)\n",
    "\n",
    "plt.plot(builder(depth,observation_indexes,Z,N),label = \"Simulation\")\n",
    "plt.plot(builder(depth,observation_indexes,esp_cond,N), label = 'Espérance conditionelle')\n",
    "plt.scatter(observation_indexes,depth)\n",
    "plt.title('Une simulation')\n",
    "plt.xlabel(\"Indice de discrétisation\")\n",
    "plt.ylabel(\"Altitude\")\n",
    "plt.legend()"
   ]
  },
  {
   "cell_type": "code",
   "execution_count": null,
   "metadata": {
    "collapsed": true
   },
   "outputs": [],
   "source": [
    "# 8. Fonction qui calcule la longueur du cable. \n",
    "\n",
    "def longueur ( prof, delta):\n",
    "    S = 0\n",
    "    for i in range(1,len(prof)):\n",
    "        S+= np.sqrt(delta**2 +(prof[i]-prof[i-1])**2)\n",
    "    return S"
   ]
  },
  {
   "cell_type": "code",
   "execution_count": null,
   "metadata": {
    "collapsed": true
   },
   "outputs": [],
   "source": [
    "# 9. 100 simulations, espérance conditionnelle de la longueur et longueur de l'esperance conditionnelle\n",
    "\n",
    "def longueur_simulée(Nb):\n",
    "    E,V=[],[]\n",
    "    for i in range(Nb):\n",
    "            Z=simul(L)\n",
    "            E.append(longueur(builder(depth,observation_indexes,Z,N),Delta))\n",
    "            V.append(longueur(builder(depth,observation_indexes,Z,N),Delta)**2)\n",
    "\n",
    "    return E,V  #On a calculé E(X) et E(X^2) afin de calculer la variance. \n",
    "\n",
    "esperance_cond_delalong= np.round(np.average(longueur_simulée(100)[0]),3)\n",
    "variance_cond=np.round(np.average(longueur_simulée(100)[1])**2-np.average(longueur_simulée(100)[0])**2,3)\n",
    "    \n",
    "longueur_delesperance_cond=np.round(longueur(builder(depth,observation_indexes,esp_cond,N),Delta),3)"
   ]
  },
  {
   "cell_type": "code",
   "execution_count": null,
   "metadata": {
    "collapsed": true
   },
   "outputs": [],
   "source": [
    "# 10. Suites Mn des moyennes de longueur de cables\n",
    "def dessin_Mn(Nb, ax=None): \n",
    "    L=longueur_simulée(Nb)[0]\n",
    "    X=[i for i in range(1,Nb+1)]\n",
    "    Y=[]\n",
    "    if ax=None:\n",
    "        ax =plt.gca()\n",
    "    for i in range(1,Nb+1):\n",
    "        Y.append(np.average(L[:i]))\n",
    "    plt.plot(X,Y)\n",
    "    plt.xlabel(\"Nombre de simulations\")\n",
    "    plt.ylabel(\"Moyenne de la longueur du câble\")\n",
    "    plt.legend()\n",
    "#    plt.show()\n",
    "\n",
    "\n",
    "#def dessin_Mn(Nb):     #c'est une méthode si on acccepte le fait de resimuler à chaque fois. \n",
    "#    X=[i for i in range(1,Nb+1)]\n",
    "#    Y=[]\n",
    "#    for i in range(Nb):\n",
    "#        Y.append(longueur_simulée(i)[2])\n",
    "#    plt.plot(X,Y)\n",
    "#    plt.show()\n",
    "\n",
    "dessin_Mn(200)"
   ]
  },
  {
   "cell_type": "code",
   "execution_count": null,
   "metadata": {
    "collapsed": true
   },
   "outputs": [],
   "source": [
    "# 11. Historigramme des longueurs de câbles générés. \n",
    "\n",
    "L=longueur_simulée(100)[0]\n",
    "\n",
    "def historigramme(L, ax=None):\n",
    "    Nb = len(L)\n",
    "    \n",
    "    num_bins = min(int(np.sqrt(NB)), 100)    \n",
    "    if ax==None:\n",
    "        ax = plt.gca()\n",
    "    n, bins, patches = ax.hist(L, num_bins)\n",
    "    ax.set_xlabel(\"Longueur simulée de câble\")\n",
    "    ax.set_title(f\"Histogramme obtenu pour {Nb} simulations\")\n",
    "    \n",
    "historigramme(L)"
   ]
  },
  {
   "cell_type": "markdown",
   "metadata": {
    "collapsed": true
   },
   "source": [
    "12. intervalle de confiance à 95% de la longueur du cable apr 2 méthodes. \n",
    "\n",
    "pipo pipo"
   ]
  },
  {
   "cell_type": "code",
   "execution_count": null,
   "metadata": {
    "collapsed": true
   },
   "outputs": [],
   "source": [
    "# 14. reprendre avec 1000, 10000, 100000\n",
    "\n",
    "L1= longueur_simulée(1000)[0]\n",
    "L2= longueur_simulée(10000)[0]\n",
    "L3= longueur_simulée(100000)[0]\n",
    "list=[L1, L2, L3]"
   ]
  },
  {
   "cell_type": "code",
   "execution_count": null,
   "metadata": {
    "collapsed": true
   },
   "outputs": [],
   "source": [
    "fig, axes = plt.subplots(2, 3)\n",
    "for i in range(3) :\n",
    "    dessin_Mn(list[i], axes[0, i])\n",
    "    histogramme(list[i], axes[1, i])"
   ]
  },
  {
   "cell_type": "code",
   "execution_count": null,
   "metadata": {
    "collapsed": true
   },
   "outputs": [],
   "source": []
  },
  {
   "cell_type": "code",
   "execution_count": null,
   "metadata": {
    "collapsed": true
   },
   "outputs": [],
   "source": []
  }
 ],
 "metadata": {
  "anaconda-cloud": {},
  "kernelspec": {
   "display_name": "Python [Root]",
   "language": "python",
   "name": "Python [Root]"
  },
  "language_info": {
   "codemirror_mode": {
    "name": "ipython",
    "version": 3
   },
   "file_extension": ".py",
   "mimetype": "text/x-python",
   "name": "python",
   "nbconvert_exporter": "python",
   "pygments_lexer": "ipython3",
   "version": "3.5.2"
  }
 },
 "nbformat": 4,
 "nbformat_minor": 2
}
